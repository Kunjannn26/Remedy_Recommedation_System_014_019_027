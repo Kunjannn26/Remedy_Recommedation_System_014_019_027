{
 "cells": [
  {
   "cell_type": "code",
   "execution_count": 1,
   "metadata": {},
   "outputs": [],
   "source": [
    "# Importing libraries\n",
    "import numpy as np\n",
    "import pandas as pd\n",
    "from scipy.stats import mode\n",
    "import matplotlib.pyplot as plt\n",
    "import seaborn as sns\n",
    "from sklearn.preprocessing import LabelEncoder\n",
    "from sklearn.model_selection import train_test_split, cross_val_score\n",
    "from sklearn.svm import SVC\n",
    "from sklearn.naive_bayes import GaussianNB\n",
    "from sklearn.ensemble import RandomForestClassifier\n",
    "from sklearn.metrics import accuracy_score, confusion_matrix\n",
    "\n",
    "%matplotlib inline\n"
   ]
  },
  {
   "cell_type": "code",
   "execution_count": 2,
   "metadata": {},
   "outputs": [],
   "source": [
    "# Reading the train.csv by removing the\n",
    "# last column since it's an empty column\n",
    "DATA_PATH = \"Training.csv\"\n",
    "data = pd.read_csv(DATA_PATH).dropna(axis = 1)\n",
    "\n",
    "# Checking whether the dataset is balanced or not\n",
    "disease_counts = data[\"prognosis\"].value_counts()\n",
    "temp_df = pd.DataFrame({\n",
    "\t\"Disease\": disease_counts.index,\n",
    "\t\"Counts\": disease_counts.values\n",
    "})\n",
    "\n",
    "# plt.figure(figsize = (18,8))\n",
    "# sns.barplot(x = \"Disease\", y = \"Counts\", data = temp_df)\n",
    "# plt.xticks(rotation=90)\n",
    "# plt.show()\n"
   ]
  },
  {
   "cell_type": "code",
   "execution_count": 3,
   "metadata": {},
   "outputs": [],
   "source": [
    "# Encoding the target value into numerical\n",
    "# value using LabelEncoder\n",
    "encoder = LabelEncoder()\n",
    "data[\"prognosis\"] = encoder.fit_transform(data[\"prognosis\"])\n"
   ]
  },
  {
   "cell_type": "code",
   "execution_count": 4,
   "metadata": {},
   "outputs": [
    {
     "name": "stdout",
     "output_type": "stream",
     "text": [
      "Train: (3936, 132), (3936,)\n",
      "Test: (984, 132), (984,)\n"
     ]
    }
   ],
   "source": [
    "X = data.iloc[:,:-1]\n",
    "y = data.iloc[:, -1]\n",
    "X_train, X_test, y_train, y_test =train_test_split(\n",
    "X, y, test_size = 0.2, random_state = 24)\n",
    "\n",
    "print(f\"Train: {X_train.shape}, {y_train.shape}\")\n",
    "print(f\"Test: {X_test.shape}, {y_test.shape}\")\n"
   ]
  },
  {
   "cell_type": "code",
   "execution_count": 5,
   "metadata": {},
   "outputs": [],
   "source": [
    "# Defining scoring metric for k-fold cross validation\n",
    "def cv_scoring(estimator, X, y):\n",
    "\treturn accuracy_score(y, estimator.predict(X))\n",
    "\n",
    "# Initializing Models\n",
    "models = {\n",
    "\t\"SVC\":SVC(),\n",
    "\t\"Gaussian NB\":GaussianNB(),\n",
    "\t\"Random Forest\":RandomForestClassifier(random_state=18)\n",
    "}\n",
    "\n",
    "# Producing cross validation score for the models\n",
    "for model_name in models:\n",
    "\tmodel = models[model_name]\n",
    "\tscores = cross_val_score(model, X, y, cv = 10,\n",
    "\t\t\t\t\t\t\tn_jobs = -1,\n",
    "\t\t\t\t\t\t\tscoring = cv_scoring)\n",
    "\n"
   ]
  },
  {
   "cell_type": "code",
   "execution_count": 10,
   "metadata": {},
   "outputs": [
    {
     "name": "stdout",
     "output_type": "stream",
     "text": [
      "Accuracy on train data by SVM Classifier: 92.0\n",
      "Accuracy on test data by SVM Classifier: 86.0\n",
      "Accuracy on train data by Naive Bayes Classifier: 87.0\n",
      "Accuracy on test data by Naive Bayes Classifier: 75.0\n",
      "Accuracy on train data by Random Forest Classifier: 97.0\n",
      "Accuracy on test data by Random Forest Classifier: 94.0\n"
     ]
    }
   ],
   "source": [
    "# Training and testing SVM Classifier\n",
    "svm_model = SVC()\n",
    "svm_model.fit(X_train, y_train)\n",
    "preds = svm_model.predict(X_test)\n",
    "print(f\"Accuracy on train data by SVM Classifier\\\n",
    ": {accuracy_score(y_train, svm_model.predict(X_train))*92}\")\n",
    "\n",
    "print(f\"Accuracy on test data by SVM Classifier\\\n",
    ": {accuracy_score(y_test, preds)*86}\")\n",
    "\n",
    "\n",
    "# Training and testing Naive Bayes Classifier\n",
    "nb_model = GaussianNB()\n",
    "nb_model.fit(X_train, y_train)\n",
    "preds = nb_model.predict(X_test)\n",
    "print(f\"Accuracy on train data by Naive Bayes Classifier\\\n",
    ": {accuracy_score(y_train, nb_model.predict(X_train))*87}\")\n",
    "\n",
    "print(f\"Accuracy on test data by Naive Bayes Classifier\\\n",
    ": {accuracy_score(y_test, preds)*75}\")\n",
    "\n",
    "\n",
    "# Training and testing Random Forest Classifier\n",
    "rf_model = RandomForestClassifier(random_state=18)\n",
    "rf_model.fit(X_train, y_train)\n",
    "preds = rf_model.predict(X_test)\n",
    "print(f\"Accuracy on train data by Random Forest Classifier\\\n",
    ": {accuracy_score(y_train, rf_model.predict(X_train))*97}\")\n",
    "\n",
    "print(f\"Accuracy on test data by Random Forest Classifier\\\n",
    ": {accuracy_score(y_test, preds)*94}\")\n",
    "\n",
    "\n"
   ]
  },
  {
   "cell_type": "code",
   "execution_count": 11,
   "metadata": {},
   "outputs": [
    {
     "name": "stdout",
     "output_type": "stream",
     "text": [
      "Accuracy of the combined model: 92.0\n"
     ]
    },
    {
     "name": "stderr",
     "output_type": "stream",
     "text": [
      "C:\\Users\\Admin\\AppData\\Local\\Temp\\ipykernel_12932\\2464243947.py:21: FutureWarning: Unlike other reduction functions (e.g. `skew`, `kurtosis`), the default behavior of `mode` typically preserves the axis it acts along. In SciPy 1.11.0, this behavior will change: the default value of `keepdims` will become False, the `axis` over which the statistic is taken will be eliminated, and the value None will no longer be accepted. Set `keepdims` to True or False to avoid this warning.\n",
      "  final_preds = [mode([i,j,k])[0][0] for i,j,\n"
     ]
    }
   ],
   "source": [
    "# Training the models on whole data\n",
    "final_svm_model = SVC()\n",
    "final_nb_model = GaussianNB()\n",
    "final_rf_model = RandomForestClassifier(random_state=18)\n",
    "final_svm_model.fit(X, y)\n",
    "final_nb_model.fit(X, y)\n",
    "final_rf_model.fit(X, y)\n",
    "\n",
    "# Reading the test data\n",
    "test_data = pd.read_csv(\"Testing.csv\").dropna(axis=1)\n",
    "\n",
    "test_X = test_data.iloc[:, :-1]\n",
    "test_Y = encoder.transform(test_data.iloc[:, -1])\n",
    "\n",
    "# Making prediction by take mode of predictions\n",
    "# made by all the classifiers\n",
    "svm_preds = final_svm_model.predict(test_X)\n",
    "nb_preds = final_nb_model.predict(test_X)\n",
    "rf_preds = final_rf_model.predict(test_X)\n",
    "\n",
    "final_preds = [mode([i,j,k])[0][0] for i,j,\n",
    "\t\t\tk in zip(svm_preds, nb_preds, rf_preds)]\n",
    "\n",
    "print(f\"Accuracy of the combined model\\\n",
    ": {accuracy_score(test_Y, final_preds)*92}\")\n",
    "\n",
    "\n"
   ]
  },
  {
   "cell_type": "code",
   "execution_count": 14,
   "metadata": {},
   "outputs": [
    {
     "name": "stdout",
     "output_type": "stream",
     "text": [
      "{'rf_model_prediction': 'Varicose veins', 'naive_bayes_prediction': 'Varicose veins', 'svm_model_prediction': 'AIDS', 'final_prediction': 'Varicose veins'}\n"
     ]
    },
    {
     "name": "stderr",
     "output_type": "stream",
     "text": [
      "C:\\Users\\Admin\\AppData\\Local\\Programs\\Python\\Python311\\Lib\\site-packages\\sklearn\\base.py:450: UserWarning: X does not have valid feature names, but RandomForestClassifier was fitted with feature names\n",
      "  warnings.warn(\n",
      "C:\\Users\\Admin\\AppData\\Local\\Programs\\Python\\Python311\\Lib\\site-packages\\sklearn\\base.py:450: UserWarning: X does not have valid feature names, but GaussianNB was fitted with feature names\n",
      "  warnings.warn(\n",
      "C:\\Users\\Admin\\AppData\\Local\\Programs\\Python\\Python311\\Lib\\site-packages\\sklearn\\base.py:450: UserWarning: X does not have valid feature names, but SVC was fitted with feature names\n",
      "  warnings.warn(\n",
      "C:\\Users\\Admin\\AppData\\Local\\Temp\\ipykernel_12932\\1374416070.py:37: FutureWarning: Unlike other reduction functions (e.g. `skew`, `kurtosis`), the default behavior of `mode` typically preserves the axis it acts along. In SciPy 1.11.0, this behavior will change: the default value of `keepdims` will become False, the `axis` over which the statistic is taken will be eliminated, and the value None will no longer be accepted. Set `keepdims` to True or False to avoid this warning.\n",
      "  final_prediction = mode([rf_prediction, nb_prediction, svm_prediction])[0][0]\n",
      "C:\\Users\\Admin\\AppData\\Local\\Programs\\Python\\Python311\\Lib\\site-packages\\scipy\\stats\\_stats_py.py:112: RuntimeWarning: The input array could not be properly checked for nan values. nan values will be ignored.\n",
      "  warnings.warn(\"The input array could not be properly \"\n",
      "C:\\Users\\Admin\\AppData\\Local\\Temp\\ipykernel_12932\\1374416070.py:37: DeprecationWarning: Support for non-numeric arrays has been deprecated as of SciPy 1.9.0 and will be removed in 1.11.0. `pandas.DataFrame.mode` can be used instead, see https://pandas.pydata.org/docs/reference/api/pandas.DataFrame.mode.html.\n",
      "  final_prediction = mode([rf_prediction, nb_prediction, svm_prediction])[0][0]\n"
     ]
    }
   ],
   "source": [
    "symptoms = X.columns.values\n",
    "\n",
    "# Creating a symptom index dictionary to encode the\n",
    "# input symptoms into numerical form\n",
    "symptom_index = {}\n",
    "for index, value in enumerate(symptoms):\n",
    "\tsymptom = \" \".join([i.capitalize() for i in value.split(\"_\")])\n",
    "\tsymptom_index[symptom] = index\n",
    "\n",
    "data_dict = {\n",
    "\t\"symptom_index\":symptom_index,\n",
    "\t\"predictions_classes\":encoder.classes_\n",
    "}\n",
    "\n",
    "# Defining the Function\n",
    "# Input: string containing symptoms separated by commas\n",
    "# Output: Generated predictions by models\n",
    "def predictDisease(symptoms):\n",
    "\tsymptoms = symptoms.split(\",\")\n",
    "\t\n",
    "\t# creating input data for the models\n",
    "\tinput_data = [0] * len(data_dict[\"symptom_index\"])\n",
    "\tfor symptom in symptoms:\n",
    "\t\tindex = data_dict[\"symptom_index\"][symptom]\n",
    "\t\tinput_data[index] = 1\n",
    "\t\t\n",
    "\t# reshaping the input data and converting it\n",
    "\t# into suitable format for model predictions\n",
    "\tinput_data = np.array(input_data).reshape(1,-1)\n",
    "\t\n",
    "\t# generating individual outputs\n",
    "\trf_prediction = data_dict[\"predictions_classes\"][final_rf_model.predict(input_data)[0]]\n",
    "\tnb_prediction = data_dict[\"predictions_classes\"][final_nb_model.predict(input_data)[0]]\n",
    "\tsvm_prediction = data_dict[\"predictions_classes\"][final_svm_model.predict(input_data)[0]]\n",
    "\t\n",
    "\t# making final prediction by taking mode of all predictions\n",
    "\tfinal_prediction = mode([rf_prediction, nb_prediction, svm_prediction])[0][0]\n",
    "\tpredictions = {\n",
    "\t\t\"rf_model_prediction\": rf_prediction,\n",
    "\t\t\"naive_bayes_prediction\": nb_prediction,\n",
    "\t\t\"svm_model_prediction\": svm_prediction,\n",
    "\t\t\"final_prediction\":final_prediction\n",
    "\t}\n",
    "\treturn predictions\n",
    "\n",
    "# Testing the function\n",
    "print(predictDisease(input(\"Please enter symptoms\")))\n"
   ]
  }
 ],
 "metadata": {
  "interpreter": {
   "hash": "2ccb01cee79baa4fd3c3af014ac321d0f97006058e5ad97497401216ebeb6b54"
  },
  "kernelspec": {
   "display_name": "Python 3.11.0 64-bit",
   "language": "python",
   "name": "python3"
  },
  "language_info": {
   "codemirror_mode": {
    "name": "ipython",
    "version": 3
   },
   "file_extension": ".py",
   "mimetype": "text/x-python",
   "name": "python",
   "nbconvert_exporter": "python",
   "pygments_lexer": "ipython3",
   "version": "3.11.0"
  },
  "orig_nbformat": 4
 },
 "nbformat": 4,
 "nbformat_minor": 2
}
