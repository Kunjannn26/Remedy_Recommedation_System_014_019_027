{
 "cells": [
  {
   "cell_type": "code",
   "execution_count": null,
   "metadata": {},
   "outputs": [],
   "source": []
  },
  {
   "cell_type": "markdown",
   "metadata": {},
   "source": [
    "# Ayurvedic Data"
   ]
  },
  {
   "cell_type": "code",
   "execution_count": 1,
   "metadata": {},
   "outputs": [],
   "source": [
    "import numpy as np\n",
    "import pandas as pd\n",
    "from sklearn.metrics import accuracy_score\n",
    "from sklearn.impute import SimpleImputer\n",
    "from sklearn.preprocessing import LabelEncoder\n",
    "from sklearn.model_selection import train_test_split\n",
    "from sklearn.tree import DecisionTreeClassifier\n",
    "from sklearn.ensemble import RandomForestClassifier\n",
    "from sklearn.neighbors import KNeighborsClassifier\n",
    "import matplotlib.pyplot as plt"
   ]
  },
  {
   "cell_type": "code",
   "execution_count": 2,
   "metadata": {},
   "outputs": [],
   "source": [
    "# Load the data into a Pandas dataframe\n",
    "data_2 = pd.read_csv(\"final_Ayurvedic Dataset.csv\")\n",
    "symptoms_list = [symptom.lower().replace(' ', '') for symptom in data_2.columns.tolist() if symptom != 'Remedy']\n",
    "\n"
   ]
  },
  {
   "cell_type": "code",
   "execution_count": 3,
   "metadata": {},
   "outputs": [],
   "source": [
    "# Split the data into input features (symptoms) and target variable (Medicines)\n",
    "X = data_2.drop(\"Remedy\", axis=1)\n",
    "y = data_2[\"Remedy\"]"
   ]
  },
  {
   "cell_type": "code",
   "execution_count": 4,
   "metadata": {},
   "outputs": [
    {
     "data": {
      "text/html": [
       "<div>\n",
       "<style scoped>\n",
       "    .dataframe tbody tr th:only-of-type {\n",
       "        vertical-align: middle;\n",
       "    }\n",
       "\n",
       "    .dataframe tbody tr th {\n",
       "        vertical-align: top;\n",
       "    }\n",
       "\n",
       "    .dataframe thead th {\n",
       "        text-align: right;\n",
       "    }\n",
       "</style>\n",
       "<table border=\"1\" class=\"dataframe\">\n",
       "  <thead>\n",
       "    <tr style=\"text-align: right;\">\n",
       "      <th></th>\n",
       "      <th>Remedy</th>\n",
       "      <th>Stress</th>\n",
       "      <th>Anxiety</th>\n",
       "      <th>Depression</th>\n",
       "      <th>Insomnia</th>\n",
       "      <th>Fatigue</th>\n",
       "      <th>Constipation</th>\n",
       "      <th>Indigestion/Digestive Issues</th>\n",
       "      <th>Bloating</th>\n",
       "      <th>Gas</th>\n",
       "      <th>...</th>\n",
       "      <th>Fertility Issues</th>\n",
       "      <th>Bad Breath</th>\n",
       "      <th>Muscle Pain</th>\n",
       "      <th>High Blood Pressure</th>\n",
       "      <th>High Cholesterol</th>\n",
       "      <th>Sinus Congestion</th>\n",
       "      <th>Weight Loss</th>\n",
       "      <th>Cold</th>\n",
       "      <th>Fever</th>\n",
       "      <th>Skin Health</th>\n",
       "    </tr>\n",
       "  </thead>\n",
       "  <tbody>\n",
       "    <tr>\n",
       "      <th>0</th>\n",
       "      <td>Ashwagandha</td>\n",
       "      <td>1</td>\n",
       "      <td>1</td>\n",
       "      <td>1</td>\n",
       "      <td>1</td>\n",
       "      <td>1</td>\n",
       "      <td>0</td>\n",
       "      <td>0</td>\n",
       "      <td>0.0</td>\n",
       "      <td>0</td>\n",
       "      <td>...</td>\n",
       "      <td>0</td>\n",
       "      <td>0</td>\n",
       "      <td>0</td>\n",
       "      <td>0</td>\n",
       "      <td>0</td>\n",
       "      <td>0</td>\n",
       "      <td>0</td>\n",
       "      <td>0</td>\n",
       "      <td>0</td>\n",
       "      <td>0</td>\n",
       "    </tr>\n",
       "    <tr>\n",
       "      <th>1</th>\n",
       "      <td>Triphala</td>\n",
       "      <td>0</td>\n",
       "      <td>0</td>\n",
       "      <td>0</td>\n",
       "      <td>0</td>\n",
       "      <td>0</td>\n",
       "      <td>1</td>\n",
       "      <td>1</td>\n",
       "      <td>1.0</td>\n",
       "      <td>1</td>\n",
       "      <td>...</td>\n",
       "      <td>0</td>\n",
       "      <td>0</td>\n",
       "      <td>0</td>\n",
       "      <td>0</td>\n",
       "      <td>0</td>\n",
       "      <td>0</td>\n",
       "      <td>0</td>\n",
       "      <td>0</td>\n",
       "      <td>0</td>\n",
       "      <td>0</td>\n",
       "    </tr>\n",
       "    <tr>\n",
       "      <th>2</th>\n",
       "      <td>Turmeric</td>\n",
       "      <td>0</td>\n",
       "      <td>0</td>\n",
       "      <td>0</td>\n",
       "      <td>0</td>\n",
       "      <td>0</td>\n",
       "      <td>0</td>\n",
       "      <td>0</td>\n",
       "      <td>0.0</td>\n",
       "      <td>0</td>\n",
       "      <td>...</td>\n",
       "      <td>0</td>\n",
       "      <td>0</td>\n",
       "      <td>0</td>\n",
       "      <td>0</td>\n",
       "      <td>1</td>\n",
       "      <td>0</td>\n",
       "      <td>0</td>\n",
       "      <td>0</td>\n",
       "      <td>0</td>\n",
       "      <td>0</td>\n",
       "    </tr>\n",
       "    <tr>\n",
       "      <th>3</th>\n",
       "      <td>Ginger</td>\n",
       "      <td>0</td>\n",
       "      <td>0</td>\n",
       "      <td>0</td>\n",
       "      <td>0</td>\n",
       "      <td>0</td>\n",
       "      <td>0</td>\n",
       "      <td>1</td>\n",
       "      <td>0.0</td>\n",
       "      <td>0</td>\n",
       "      <td>...</td>\n",
       "      <td>0</td>\n",
       "      <td>1</td>\n",
       "      <td>1</td>\n",
       "      <td>1</td>\n",
       "      <td>0</td>\n",
       "      <td>0</td>\n",
       "      <td>0</td>\n",
       "      <td>0</td>\n",
       "      <td>0</td>\n",
       "      <td>0</td>\n",
       "    </tr>\n",
       "    <tr>\n",
       "      <th>4</th>\n",
       "      <td>Neem</td>\n",
       "      <td>0</td>\n",
       "      <td>0</td>\n",
       "      <td>0</td>\n",
       "      <td>0</td>\n",
       "      <td>0</td>\n",
       "      <td>0</td>\n",
       "      <td>0</td>\n",
       "      <td>0.0</td>\n",
       "      <td>0</td>\n",
       "      <td>...</td>\n",
       "      <td>0</td>\n",
       "      <td>0</td>\n",
       "      <td>0</td>\n",
       "      <td>0</td>\n",
       "      <td>0</td>\n",
       "      <td>0</td>\n",
       "      <td>0</td>\n",
       "      <td>0</td>\n",
       "      <td>0</td>\n",
       "      <td>0</td>\n",
       "    </tr>\n",
       "  </tbody>\n",
       "</table>\n",
       "<p>5 rows × 43 columns</p>\n",
       "</div>"
      ],
      "text/plain": [
       "        Remedy  Stress  Anxiety  Depression  Insomnia  Fatigue  Constipation  \\\n",
       "0  Ashwagandha       1        1           1         1        1             0   \n",
       "1     Triphala       0        0           0         0        0             1   \n",
       "2     Turmeric       0        0           0         0        0             0   \n",
       "3       Ginger       0        0           0         0        0             0   \n",
       "4         Neem       0        0           0         0        0             0   \n",
       "\n",
       "   Indigestion/Digestive Issues  Bloating  Gas  ...  Fertility Issues  \\\n",
       "0                             0       0.0    0  ...                 0   \n",
       "1                             1       1.0    1  ...                 0   \n",
       "2                             0       0.0    0  ...                 0   \n",
       "3                             1       0.0    0  ...                 0   \n",
       "4                             0       0.0    0  ...                 0   \n",
       "\n",
       "   Bad Breath  Muscle Pain  High Blood Pressure  High Cholesterol  \\\n",
       "0           0            0                    0                 0   \n",
       "1           0            0                    0                 0   \n",
       "2           0            0                    0                 1   \n",
       "3           1            1                    1                 0   \n",
       "4           0            0                    0                 0   \n",
       "\n",
       "   Sinus Congestion  Weight Loss  Cold  Fever  Skin Health  \n",
       "0                 0            0     0      0            0  \n",
       "1                 0            0     0      0            0  \n",
       "2                 0            0     0      0            0  \n",
       "3                 0            0     0      0            0  \n",
       "4                 0            0     0      0            0  \n",
       "\n",
       "[5 rows x 43 columns]"
      ]
     },
     "execution_count": 4,
     "metadata": {},
     "output_type": "execute_result"
    }
   ],
   "source": [
    "data_2.head()"
   ]
  },
  {
   "cell_type": "code",
   "execution_count": 5,
   "metadata": {},
   "outputs": [],
   "source": [
    "# Encode the categorical target variable `Medicines` into numerical labels\n",
    "label_encoder = LabelEncoder()\n",
    "y = label_encoder.fit_transform(y)"
   ]
  },
  {
   "cell_type": "code",
   "execution_count": 6,
   "metadata": {},
   "outputs": [
    {
     "name": "stdout",
     "output_type": "stream",
     "text": [
      "Label Map: {'Amla': 0, 'Ashwagandha': 1, 'Brahmi': 2, 'Cardamom': 3, 'Cinnamon': 4, 'Coriander': 5, 'Cumin': 6, 'Fennel': 7, 'Fenugreek': 8, 'Garlic': 9, 'Ginger': 10, 'Gotu Kola': 11, 'Guduchi': 12, 'Hing': 13, 'Holy Basil': 14, 'Lemon': 15, 'Licorice': 16, 'Mint': 17, 'Neem': 18, 'Peppermint': 19, 'Rose': 20, 'Saffron': 21, 'Sandalwood': 22, 'Sesame Oil': 23, 'Shatavari': 24, 'Trikatu': 25, 'Triphala': 26, 'Triphala Guggul': 27, 'Tulsi': 28, 'Turmeric': 29, 'Vacha': 30}\n",
      "Label\tEncoded Value\n",
      "Amla\t0\n",
      "Ashwagandha\t1\n",
      "Brahmi\t2\n",
      "Cardamom\t3\n",
      "Cinnamon\t4\n",
      "Coriander\t5\n",
      "Cumin\t6\n",
      "Fennel\t7\n",
      "Fenugreek\t8\n",
      "Garlic\t9\n",
      "Ginger\t10\n",
      "Gotu Kola\t11\n",
      "Guduchi\t12\n",
      "Hing\t13\n",
      "Holy Basil\t14\n",
      "Lemon\t15\n",
      "Licorice\t16\n",
      "Mint\t17\n",
      "Neem\t18\n",
      "Peppermint\t19\n",
      "Rose\t20\n",
      "Saffron\t21\n",
      "Sandalwood\t22\n",
      "Sesame Oil\t23\n",
      "Shatavari\t24\n",
      "Trikatu\t25\n",
      "Triphala\t26\n",
      "Triphala Guggul\t27\n",
      "Tulsi\t28\n",
      "Turmeric\t29\n",
      "Vacha\t30\n"
     ]
    }
   ],
   "source": [
    "label_map = {label: i for i, label in enumerate(label_encoder.classes_)}\n",
    "print('Label Map:', label_map)\n",
    "\n",
    "# print a table of labels and their corresponding encoded values\n",
    "print('Label\\tEncoded Value')\n",
    "for label, value in zip(label_encoder.classes_, label_encoder.transform(label_encoder.classes_)):\n",
    "    print('{}\\t{}'.format(label, value))"
   ]
  },
  {
   "cell_type": "code",
   "execution_count": 7,
   "metadata": {},
   "outputs": [],
   "source": [
    "# Split the data into training and testing sets\n",
    "X_train, X_test, y_train, y_test = train_test_split(X, y, test_size=0.2, random_state=42)\n"
   ]
  },
  {
   "cell_type": "code",
   "execution_count": 8,
   "metadata": {},
   "outputs": [
    {
     "data": {
      "text/plain": [
       "array([20, 11,  1, 18,  4,  2, 12, 24, 17, 26, 29, 21, 10, 15, 22,  7, 30,\n",
       "       13, 14, 25,  6, 27,  9, 16])"
      ]
     },
     "execution_count": 8,
     "metadata": {},
     "output_type": "execute_result"
    }
   ],
   "source": [
    "y_train"
   ]
  },
  {
   "cell_type": "code",
   "execution_count": 9,
   "metadata": {},
   "outputs": [
    {
     "data": {
      "text/plain": [
       "(24,)"
      ]
     },
     "execution_count": 9,
     "metadata": {},
     "output_type": "execute_result"
    }
   ],
   "source": [
    "y_train.shape"
   ]
  },
  {
   "cell_type": "code",
   "execution_count": 10,
   "metadata": {},
   "outputs": [],
   "source": [
    "imputer = SimpleImputer(strategy=\"median\")\n",
    "X_train = imputer.fit_transform(X_train)\n",
    "y_train = imputer.fit_transform(y_train.reshape(-1, 1)).flatten()\n",
    "X_test = imputer.fit_transform(X_test)\n",
    "y_test = imputer.fit_transform(y_test.reshape(-1, 1)).flatten()"
   ]
  },
  {
   "cell_type": "code",
   "execution_count": 11,
   "metadata": {},
   "outputs": [],
   "source": [
    "# Instantiate a DecisionTreeClassifier algorithm\n",
    "model_DT = DecisionTreeClassifier(random_state=42)\n",
    "model_RF = RandomForestClassifier(random_state=42)\n",
    "model_KNN = KNeighborsClassifier(n_neighbors=3)\n",
    "\n",
    "# Train the model on the training set\n",
    "model_DT.fit(X_train, y_train.ravel())\n",
    "model_RF.fit(X_train, y_train.ravel())\n",
    "model_KNN.fit(X_train, y_train.ravel())\n",
    "\n",
    "# Test the model on the testing set\n",
    "y_pred_DT = model_DT.predict(X_test)\n",
    "y_pred_RF = model_RF.predict(X_test)\n",
    "y_pred_KNN = model_KNN.predict(X_test)"
   ]
  },
  {
   "cell_type": "code",
   "execution_count": 11,
   "metadata": {},
   "outputs": [],
   "source": [
    "# y_train.reshape(,"
   ]
  },
  {
   "cell_type": "code",
   "execution_count": 12,
   "metadata": {},
   "outputs": [
    {
     "data": {
      "text/plain": [
       "(24,)"
      ]
     },
     "execution_count": 12,
     "metadata": {},
     "output_type": "execute_result"
    }
   ],
   "source": [
    "# y_train = y_train.flatten()\n",
    "# y_test = y_test.flatten()\n",
    "y_train.shape"
   ]
  },
  {
   "cell_type": "code",
   "execution_count": 13,
   "metadata": {},
   "outputs": [
    {
     "data": {
      "text/plain": [
       "(24, 42)"
      ]
     },
     "execution_count": 13,
     "metadata": {},
     "output_type": "execute_result"
    }
   ],
   "source": [
    "X_train.shape"
   ]
  },
  {
   "cell_type": "code",
   "execution_count": 14,
   "metadata": {},
   "outputs": [
    {
     "name": "stdout",
     "output_type": "stream",
     "text": [
      "\n",
      "Train Accuracy of Model DecisionTreeClassifier(random_state=42) = 0.9583333333333334\n",
      "Test Accuracy of Model DecisionTreeClassifier(random_state=42) = 0.0\n",
      "\n",
      "Train Accuracy of Model RandomForestClassifier(random_state=42) = 0.9583333333333334\n",
      "Test Accuracy of Model RandomForestClassifier(random_state=42) = 0.0\n",
      "\n",
      "Train Accuracy of Model KNeighborsClassifier(n_neighbors=3) = 0.2916666666666667\n",
      "Test Accuracy of Model KNeighborsClassifier(n_neighbors=3) = 0.0\n"
     ]
    }
   ],
   "source": [
    "models = [model_DT, model_RF, model_KNN]\n",
    "model_data = {model_DT : y_pred_DT, model_RF : y_pred_RF, model_KNN : y_pred_KNN}\n",
    "\n",
    "for model in models:\n",
    "    print(\"\\nTrain Accuracy of Model {} = {}\".format(model, accuracy_score(y_train, model.predict(X_train))))\n",
    "    print(\"Test Accuracy of Model {} = {}\".format(model, accuracy_score(y_test, model_data[model])))"
   ]
  },
  {
   "cell_type": "code",
   "execution_count": 15,
   "metadata": {},
   "outputs": [
    {
     "name": "stdout",
     "output_type": "stream",
     "text": [
      "[0, 0, 0, 0, 0, 0, 0, 0, 0, 0, 0, 0, 0, 0, 1, 0, 0, 0, 0, 0, 0, 0, 0, 0, 0, 1, 0, 0, 0, 0, 0, 0, 0, 0, 0, 0, 0, 0, 0, 0, 0, 0]\n",
      "Top 3 predicted medicines - Decision Tree: ['Peppermint' 'Sesame Oil' 'Ginger']\n",
      "Top 3 predicted medicines - Random Forest: ['Hing' 'Guduchi' 'Fenugreek']\n",
      "Top 3 predicted medicines - KNN: ['Sesame Oil' 'Peppermint' 'Hing']\n"
     ]
    }
   ],
   "source": [
    "# Use the trained model to make predictions on new input symptoms\n",
    "new = input(\"Enter symptoms separated by comma: \")\n",
    "new = new.lower().replace(\" \", \"\")\n",
    "new_symptoms = [1 if symptom.strip() in new.split(',') else 0 for symptom in symptoms_list]\n",
    "\n",
    "print(new_symptoms)\n",
    "# print(len(new_symptoms))\n",
    "\n",
    "# Predict the probabilities of each class using the `predict_proba()` method\n",
    "predicted_probabilities_DT = model_DT.predict_proba([new_symptoms])[0]\n",
    "predicted_probabilities_RF = model_RF.predict_proba([new_symptoms])[0]\n",
    "predicted_probabilities_KNN = model_KNN.predict_proba([new_symptoms])[0]\n",
    "\n",
    "# Sort the probabilities in descending order and get the top 3 predictions\n",
    "top_3_predictions_DT = label_encoder.inverse_transform(predicted_probabilities_DT.argsort()[::-1][:3])\n",
    "top_3_predictions_RF = label_encoder.inverse_transform(predicted_probabilities_RF.argsort()[::-1][:3])\n",
    "top_3_predictions_KNN = label_encoder.inverse_transform(predicted_probabilities_KNN.argsort()[::-1][:3])\n",
    "\n",
    "\n",
    "print(\"Top 3 predicted medicines - Decision Tree:\", top_3_predictions_DT)\n",
    "print(\"Top 3 predicted medicines - Random Forest:\", top_3_predictions_RF)\n",
    "print(\"Top 3 predicted medicines - KNN:\", top_3_predictions_KNN)\n",
    "\n"
   ]
  },
  {
   "cell_type": "code",
   "execution_count": 17,
   "metadata": {},
   "outputs": [
    {
     "data": {
      "text/plain": [
       "['ayurvedic.joblib']"
      ]
     },
     "execution_count": 17,
     "metadata": {},
     "output_type": "execute_result"
    }
   ],
   "source": [
    "import joblib\n",
    "\n",
    "joblib.dump(model, 'ayurvedic.joblib')\n"
   ]
  }
 ],
 "metadata": {
  "kernelspec": {
   "display_name": "Python 3 (ipykernel)",
   "language": "python",
   "name": "python3"
  },
  "language_info": {
   "codemirror_mode": {
    "name": "ipython",
    "version": 3
   },
   "file_extension": ".py",
   "mimetype": "text/x-python",
   "name": "python",
   "nbconvert_exporter": "python",
   "pygments_lexer": "ipython3",
   "version": "3.11.0"
  }
 },
 "nbformat": 4,
 "nbformat_minor": 2
}
